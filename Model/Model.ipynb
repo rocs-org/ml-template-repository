{
 "cells": [
  {
   "cell_type": "code",
   "execution_count": 1,
   "id": "eed7bedc",
   "metadata": {},
   "outputs": [],
   "source": [
    "import sklearn.metrics\n",
    "from psycopg2.sql import SQL, Identifier, Literal, Composed\n",
    "\n",
    "import ramda as R\n",
    "from numpy import nanstd, random\n",
    "import pandas as pd\n",
    "import seaborn as sns\n",
    "import matplotlib.pyplot as plt\n",
    "from datetime import date, timedelta\n",
    "from itertools import product\n",
    "from tqdm.notebook import tqdm\n",
    "from typing import List, Union\n",
    "\n",
    "from pathlib import Path\n",
    "from joblib import Memory, memory\n",
    "from psycopg2 import connect\n",
    "\n",
    "from sklearn.pipeline import make_pipeline\n",
    "from sklearn.preprocessing import StandardScaler\n",
    "from sklearn.linear_model import LogisticRegression\n",
    "from sklearn.model_selection import train_test_split\n",
    "from sklearn.metrics import ConfusionMatrixDisplay, confusion_matrix, precision_recall_curve, roc_curve\n",
    "import os\n",
    "import yaml\n",
    "\n",
    "notebook_path = os.path.abspath(\"Detection model (Logistic regression).ipynb\")\n",
    "\n",
    "cachedir = \"./db_cache\"\n",
    "Path(cachedir).mkdir(exist_ok=True)\n",
    "mem = Memory(location=cachedir, verbose=0)\n",
    "memory._build_func_identifier = lambda func: func.__name__\n",
    "\n",
    "\n",
    "def parse_yyyy_mm_dd(datestring: str) -> date:\n",
    "    return datetime.strptime(datestring, \"%Y-%m-%d\").date()\n",
    "\n",
    "\n",
    "def load_yaml_file(path) -> dict:\n",
    "    with open(path, \"r\") as file:\n",
    "        try:\n",
    "            return yaml.safe_load(file)\n",
    "        except yaml.YAMLError as exc:\n",
    "            print(exc)\n",
    "\n",
    "\n",
    "@mem.cache\n",
    "def pull_from_postgres(query: Union[str, SQL, Composed]) -> pd.DataFrame:\n",
    "    credentials = load_yaml_file(Path(notebook_path).with_name(\"postgres_credentials.yaml\"))\n",
    "    connection = connect(**credentials)\n",
    "    res = pd.read_sql(query, connection)\n",
    "    connection.close()\n",
    "    return res\n"
   ]
  },
  {
   "cell_type": "code",
   "execution_count": null,
   "id": "3b0a0ae8",
   "metadata": {},
   "outputs": [],
   "source": [
    "#Do stuff here"
   ]
  }
 ],
 "metadata": {
  "kernelspec": {
   "display_name": "Python 3",
   "language": "python",
   "name": "python3"
  },
  "language_info": {
   "codemirror_mode": {
    "name": "ipython",
    "version": 3
   },
   "file_extension": ".py",
   "mimetype": "text/x-python",
   "name": "python",
   "nbconvert_exporter": "python",
   "pygments_lexer": "ipython3",
   "version": "3.8.10"
  }
 },
 "nbformat": 4,
 "nbformat_minor": 5
}